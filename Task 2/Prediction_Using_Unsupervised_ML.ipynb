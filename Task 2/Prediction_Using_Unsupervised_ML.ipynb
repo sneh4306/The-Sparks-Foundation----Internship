{
  "nbformat": 4,
  "nbformat_minor": 0,
  "metadata": {
    "colab": {
      "name": "Prediction-Using-Unsupervised-ML.ipynb",
      "provenance": []
    },
    "kernelspec": {
      "name": "python3",
      "display_name": "Python 3"
    }
  },
  "cells": [
    {
      "cell_type": "code",
      "metadata": {
        "id": "E-gjrGKDDcd8"
      },
      "source": [
        "import pandas as pd\n",
        "import numpy as np\n",
        "import matplotlib.pyplot as plt\n",
        "%matplotlib inline\n",
        "from sklearn import datasets"
      ],
      "execution_count": null,
      "outputs": []
    },
    {
      "cell_type": "markdown",
      "metadata": {
        "id": "uJuWPjz3KzGH"
      },
      "source": [
        "# Load the Iris Dataset"
      ]
    },
    {
      "cell_type": "code",
      "metadata": {
        "id": "16dYcGMBDjvB",
        "outputId": "ff3c24c7-b5dd-4b0f-e411-4a52deff0b47",
        "colab": {
          "base_uri": "https://localhost:8080/",
          "height": 204
        }
      },
      "source": [
        "iris=pd.read_csv('Iris.csv')\n",
        "iris.head()"
      ],
      "execution_count": null,
      "outputs": [
        {
          "output_type": "execute_result",
          "data": {
            "text/html": [
              "<div>\n",
              "<style scoped>\n",
              "    .dataframe tbody tr th:only-of-type {\n",
              "        vertical-align: middle;\n",
              "    }\n",
              "\n",
              "    .dataframe tbody tr th {\n",
              "        vertical-align: top;\n",
              "    }\n",
              "\n",
              "    .dataframe thead th {\n",
              "        text-align: right;\n",
              "    }\n",
              "</style>\n",
              "<table border=\"1\" class=\"dataframe\">\n",
              "  <thead>\n",
              "    <tr style=\"text-align: right;\">\n",
              "      <th></th>\n",
              "      <th>Id</th>\n",
              "      <th>SepalLengthCm</th>\n",
              "      <th>SepalWidthCm</th>\n",
              "      <th>PetalLengthCm</th>\n",
              "      <th>PetalWidthCm</th>\n",
              "      <th>Species</th>\n",
              "    </tr>\n",
              "  </thead>\n",
              "  <tbody>\n",
              "    <tr>\n",
              "      <th>0</th>\n",
              "      <td>1</td>\n",
              "      <td>5.1</td>\n",
              "      <td>3.5</td>\n",
              "      <td>1.4</td>\n",
              "      <td>0.2</td>\n",
              "      <td>Iris-setosa</td>\n",
              "    </tr>\n",
              "    <tr>\n",
              "      <th>1</th>\n",
              "      <td>2</td>\n",
              "      <td>4.9</td>\n",
              "      <td>3.0</td>\n",
              "      <td>1.4</td>\n",
              "      <td>0.2</td>\n",
              "      <td>Iris-setosa</td>\n",
              "    </tr>\n",
              "    <tr>\n",
              "      <th>2</th>\n",
              "      <td>3</td>\n",
              "      <td>4.7</td>\n",
              "      <td>3.2</td>\n",
              "      <td>1.3</td>\n",
              "      <td>0.2</td>\n",
              "      <td>Iris-setosa</td>\n",
              "    </tr>\n",
              "    <tr>\n",
              "      <th>3</th>\n",
              "      <td>4</td>\n",
              "      <td>4.6</td>\n",
              "      <td>3.1</td>\n",
              "      <td>1.5</td>\n",
              "      <td>0.2</td>\n",
              "      <td>Iris-setosa</td>\n",
              "    </tr>\n",
              "    <tr>\n",
              "      <th>4</th>\n",
              "      <td>5</td>\n",
              "      <td>5.0</td>\n",
              "      <td>3.6</td>\n",
              "      <td>1.4</td>\n",
              "      <td>0.2</td>\n",
              "      <td>Iris-setosa</td>\n",
              "    </tr>\n",
              "  </tbody>\n",
              "</table>\n",
              "</div>"
            ],
            "text/plain": [
              "   Id  SepalLengthCm  SepalWidthCm  PetalLengthCm  PetalWidthCm      Species\n",
              "0   1            5.1           3.5            1.4           0.2  Iris-setosa\n",
              "1   2            4.9           3.0            1.4           0.2  Iris-setosa\n",
              "2   3            4.7           3.2            1.3           0.2  Iris-setosa\n",
              "3   4            4.6           3.1            1.5           0.2  Iris-setosa\n",
              "4   5            5.0           3.6            1.4           0.2  Iris-setosa"
            ]
          },
          "metadata": {
            "tags": []
          },
          "execution_count": 46
        }
      ]
    },
    {
      "cell_type": "markdown",
      "metadata": {
        "id": "0wXEhHXlK4eT"
      },
      "source": [
        "# Extract the features that will be used for cluster prediction"
      ]
    },
    {
      "cell_type": "code",
      "metadata": {
        "id": "ZOD-RTAKEDHY"
      },
      "source": [
        "X=iris.iloc[:,1:-1].values"
      ],
      "execution_count": null,
      "outputs": []
    },
    {
      "cell_type": "markdown",
      "metadata": {
        "id": "bknL2F4tK91h"
      },
      "source": [
        "# Prediction:  \n",
        "- Initially, the model is trained by taking clusters size as a range of 1-10\n",
        "- Error in all these models is taken in a list\n"
      ]
    },
    {
      "cell_type": "code",
      "metadata": {
        "id": "Yv7kP4E-G0LQ"
      },
      "source": [
        "from sklearn.cluster import KMeans\n",
        "error=[]\n",
        "for i in range(1,11):\n",
        "  kmean=KMeans(n_clusters=i).fit(X)\n",
        "  error.append(kmean.inertia_)"
      ],
      "execution_count": null,
      "outputs": []
    },
    {
      "cell_type": "markdown",
      "metadata": {
        "id": "zApfgIvTLO4Q"
      },
      "source": [
        "- The error in each model is plotted against respective number of clusters\n",
        "- The number where an elbow is formed is the optimal number of clusters\n",
        "- This is called the elbow method"
      ]
    },
    {
      "cell_type": "code",
      "metadata": {
        "id": "CtwZV_b0Hjj2",
        "outputId": "6c88397f-c41d-4874-eb07-2892bfc9b5fd",
        "colab": {
          "base_uri": "https://localhost:8080/",
          "height": 282
        }
      },
      "source": [
        "plt.plot(range(1,11),error)"
      ],
      "execution_count": null,
      "outputs": [
        {
          "output_type": "execute_result",
          "data": {
            "text/plain": [
              "[<matplotlib.lines.Line2D at 0x7f6cd31436a0>]"
            ]
          },
          "metadata": {
            "tags": []
          },
          "execution_count": 50
        },
        {
          "output_type": "display_data",
          "data": {
            "image/png": "[encoded data removed]",
            "text/plain": [
              "<Figure size 432x288 with 1 Axes>"
            ]
          },
          "metadata": {
            "tags": [],
            "needs_background": "light"
          }
        }
      ]
    },
    {
      "cell_type": "markdown",
      "metadata": {
        "id": "SM6oSHBBLh0T"
      },
      "source": [
        "- From the graph we can see that, the optimal number of clusters is between 2 and 4\n",
        "- Thus the final model is trained having 3 clusters."
      ]
    },
    {
      "cell_type": "markdown",
      "metadata": {
        "id": "18N8XIxKLsh3"
      },
      "source": [
        "# Final Model:  \n",
        "- The model is trained using 3 as the number of clusters\n",
        "- The cluster values are then predicted"
      ]
    },
    {
      "cell_type": "code",
      "metadata": {
        "id": "jYebnHEIH-LK"
      },
      "source": [
        "kmean3=KMeans(n_clusters=3)\n",
        "y_kmean3 = kmean3.fit_predict(X)"
      ],
      "execution_count": null,
      "outputs": []
    },
    {
      "cell_type": "markdown",
      "metadata": {
        "id": "h8Il9drmL4OU"
      },
      "source": [
        "# Visualization:\n",
        "- Cluster values are plotted for first two columns i.e Sepal Length and Sepal Width"
      ]
    },
    {
      "cell_type": "code",
      "metadata": {
        "id": "EwDfnhP8IxVn",
        "outputId": "894a82a8-2d18-4802-e06c-ca543ffc0549",
        "colab": {
          "base_uri": "https://localhost:8080/",
          "height": 285
        }
      },
      "source": [
        "plt.scatter(X[y_kmean3 == 0, 0], X[y_kmean3 == 0, 1], \n",
        "            s = 100, c = 'red', label = 'Iris-setosa')\n",
        "plt.scatter(X[y_kmean3 == 1, 0], X[y_kmean3 == 1, 1], \n",
        "            s = 100, c = 'blue', label = 'Iris-versicolour')\n",
        "plt.scatter(X[y_kmean3 == 2, 0], X[y_kmean3 == 2, 1],\n",
        "            s = 100, c = 'green', label = 'Iris-virginica')\n",
        "\n",
        "# Plotting the centroids of the clusters\n",
        "plt.scatter(kmean3.cluster_centers_[:, 0], kmean3.cluster_centers_[:,1], \n",
        "            s = 100, c = 'yellow', label = 'Centroids')\n",
        "plt.legend()"
      ],
      "execution_count": null,
      "outputs": [
        {
          "output_type": "execute_result",
          "data": {
            "text/plain": [
              "<matplotlib.legend.Legend at 0x7f6cd3126ef0>"
            ]
          },
          "metadata": {
            "tags": []
          },
          "execution_count": 52
        },
        {
          "output_type": "display_data",
          "data": {
            "image/png": "[encoded data removed]",
            "text/plain": [
              "<Figure size 432x288 with 1 Axes>"
            ]
          },
          "metadata": {
            "tags": [],
            "needs_background": "light"
          }
        }
      ]
    },
    {
      "cell_type": "code",
      "metadata": {
        "id": "bxQahtvoMIsy"
      },
      "source": [
        ""
      ],
      "execution_count": null,
      "outputs": []
    }
  ]
}